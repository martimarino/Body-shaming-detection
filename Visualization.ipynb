{
 "cells": [
  {
   "cell_type": "markdown",
   "id": "8351db08",
   "metadata": {
    "id": "8351db08"
   },
   "source": [
    "# Show data collected"
   ]
  },
  {
   "cell_type": "markdown",
   "id": "BjVW0mYBEMMH",
   "metadata": {
    "id": "BjVW0mYBEMMH"
   },
   "source": [
    "## - Class plot"
   ]
  },
  {
   "cell_type": "code",
   "execution_count": null,
   "id": "WImPB-AtERf1",
   "metadata": {
    "colab": {
     "background_save": true,
     "base_uri": "https://localhost:8080/",
     "height": 289
    },
    "executionInfo": {
     "elapsed": 334,
     "status": "ok",
     "timestamp": 1657188919410,
     "user": {
      "displayName": "MARTINA MARINO",
      "userId": "06117242016215180196"
     },
     "user_tz": -120
    },
    "id": "WImPB-AtERf1",
    "outputId": "eaeae521-8260-4f70-814c-26cdd6cc0eb3"
   },
   "outputs": [],
   "source": [
    "import pandas as pd\n",
    "data = pd.read_csv('./labeled/12-01-rebalanced-only-labeled.csv', index_col=False, delimiter=\",\")\n",
    "\n",
    "import matplotlib.pyplot as plt\n",
    "import pandas as pd\n",
    "import seaborn as sns\n",
    "\n",
    "data['target'].value_counts().plot(kind='bar')\n",
    "plt.xlabel(\"Label\", labelpad=14)\n",
    "plt.xticks(rotation=0)\n",
    "plt.ylabel(\"Tweets\", labelpad=14);\n",
    "# plt.title(\"Training set\", y=1.02);\n",
    "\n",
    "plt.savefig('training set.png')"
   ]
  },
  {
   "cell_type": "markdown",
   "id": "07dae0b5",
   "metadata": {
    "id": "07dae0b5"
   },
   "source": [
    "## - Histogram of a single file"
   ]
  },
  {
   "cell_type": "code",
   "execution_count": null,
   "id": "1ed8b8d1",
   "metadata": {
    "colab": {
     "base_uri": "https://localhost:8080/",
     "height": 235
    },
    "executionInfo": {
     "elapsed": 682,
     "status": "error",
     "timestamp": 1657188089238,
     "user": {
      "displayName": "MARTINA MARINO",
      "userId": "06117242016215180196"
     },
     "user_tz": -120
    },
    "id": "1ed8b8d1",
    "outputId": "5cb4078e-d93e-4073-e401-de8c16e8e7f4"
   },
   "outputs": [],
   "source": [
    "import seaborn as sns\n",
    "import pandas as pd\n",
    "from matplotlib import pyplot as plt\n",
    "\n",
    "df = pd.read_csv(file_name, index_col=False, delimiter=\",\")\n",
    "\n",
    "# get only month and year from datetime column (date of exam)\n",
    "df['date_col'] = df['Datetime'].astype('datetime64').dt.to_period('D') # D = day, M = month, Y = year\n",
    "print(df.shape)\n",
    "\n",
    "# group by based on month and year after filtering poor graded students\n",
    "data = df.groupby(['date_col']).size().reset_index(name = 'count')  \n",
    "\n",
    "ax = sns.barplot(x=\"date_col\", y=\"count\", data=data, zorder=2).set(title='Distribution of tweets') #plot using seaborn\n",
    "plt.xticks(rotation=70)\n",
    "plt.tight_layout()\n",
    "plt.rcParams[\"figure.figsize\"] = [11,9]\n",
    "plt.grid()"
   ]
  },
  {
   "cell_type": "markdown",
   "id": "89bcca8d",
   "metadata": {
    "id": "89bcca8d"
   },
   "source": [
    "## - Bar charts"
   ]
  },
  {
   "cell_type": "code",
   "execution_count": null,
   "id": "3425c1d1",
   "metadata": {
    "id": "3425c1d1"
   },
   "outputs": [],
   "source": [
    "import seaborn as sns\n",
    "import pandas as pd\n",
    "import matplotlib.pyplot as plt\n",
    "import matplotlib.dates as mdates\n",
    "\n",
    "df = pd.read_csv('./merged/monitoring.csv', index_col=False, delimiter=\",\")\n",
    "\n",
    "# get only month and year from datetime column (date of exam)\n",
    "df['date_col'] = df['datetime'].astype('datetime64').dt.to_period('D') # D = day, M = month, Y = year\n",
    "print(df.shape)\n",
    "\n",
    "# group by based on month and year after filtering poor graded students\n",
    "data = df.groupby(['date_col']).size().reset_index(name = 'count')  \n",
    "\n",
    "ax = sns.barplot(x=\"date_col\", y=data[\"count\"], data=data, zorder=2, color=\"cornflowerblue\")\n",
    "# plt.title('Distribution of tweets',fontsize=36,pad=30)\n",
    "plt.xlabel('Time',fontsize=30,labelpad=24)\n",
    "plt.ylabel('#Tweets',fontsize=30)\n",
    "plt.xticks(rotation=90, fontsize=16)\n",
    "plt.yticks(fontsize=26)\n",
    "plt.tight_layout()\n",
    "plt.rcParams[\"figure.figsize\"] = [28,9]\n",
    "plt.grid()\n",
    "plt.savefig('./monitoring/monitoring_barplot_days.png')"
   ]
  },
  {
   "cell_type": "code",
   "execution_count": null,
   "id": "0008c456",
   "metadata": {},
   "outputs": [],
   "source": [
    "import datetime\n",
    "import numpy as np\n",
    "import pandas as pd\n",
    "import matplotlib.pyplot as plt\n",
    "import matplotlib.dates as mdates\n",
    "import seaborn as sns\n",
    "\n",
    "df = pd.read_csv('./merged/monitoring.csv', index_col=False, delimiter=\",\")\n",
    "# get only month and year from datetime column (date of exam)\n",
    "df['date_col'] = df['datetime'].astype('datetime64').dt.to_period('D') # D = day, M = month, Y = year\n",
    "print(df.shape)\n",
    "\n",
    "# group by based on month and year after filtering poor graded students\n",
    "data = df.groupby(['date_col']).size().reset_index(name = 'count')  \n",
    "data['date_col'] = data['date_col'].dt.to_timestamp('s').dt.strftime('%Y-%m-%d')\n",
    "data['date_col'] = pd.to_datetime(data['date_col'], format='%Y-%m-%d')\n",
    "\n",
    "\n",
    "# Set the locator\n",
    "locator = mdates.MonthLocator()  # every month\n",
    "# Specify the format - %b gives us Jan, Feb...\n",
    "fmt = mdates.DateFormatter('%b')\n",
    "# Plot\n",
    "plt.bar(data['date_col'], data['count'], color=\"cornflowerblue\")\n",
    "X = plt.gca().xaxis\n",
    "X.set_major_locator(locator)\n",
    "# Specify formatter\n",
    "X.set_major_formatter(fmt)\n",
    "\n",
    "# Labels\n",
    "# plt.title('Distribution of tweets',fontsize=36,pad=30)\n",
    "# plt.xlabel('Time',fontsize=30,labelpad=50)\n",
    "plt.ylabel('#Tweets',fontsize=36,labelpad=26)\n",
    "#Ticks\n",
    "plt.xticks(rotation=90, fontsize=30)\n",
    "plt.yticks(fontsize=30)\n",
    "plt.tick_params(axis='y', pad=10)\n",
    "plt.tick_params(axis='x', pad=10)\n",
    "\n",
    "plt.margins(x=0)    # delete graph lateral margin\n",
    "plt.ylim(ymin=0)    # y values start from 0\n",
    "plt.tight_layout()\n",
    "plt.rcParams[\"figure.figsize\"] = [28,9]\n",
    "plt.grid(zorder=2)\n",
    "plt.savefig('./monitoring/monitoring_barplot.png')\n",
    "plt.show()"
   ]
  },
  {
   "cell_type": "markdown",
   "id": "612585e6",
   "metadata": {},
   "source": [
    "## - Find peaks"
   ]
  },
  {
   "cell_type": "code",
   "execution_count": null,
   "id": "128a39cf",
   "metadata": {},
   "outputs": [],
   "source": [
    "import pandas as pd\n",
    "import seaborn as sns\n",
    "import matplotlib.pyplot as plt\n",
    "\n",
    "\n",
    "input_file = './merged/cleaned.csv'\n",
    "dataset = pd.read_csv(input_file)\n",
    "dataset = dataset.groupby(dataset['datetime'].astype('datetime64').dt.to_period('d')).size().reset_index(name='counts')\n",
    "dataset[\"datetime\"]= dataset[\"datetime\"].dt.strftime('%Y-%m-%d')\n",
    "dataset = dataset.iloc[:, ::-1]\n",
    "\n",
    "res = dataset[(dataset['counts'] > 800) & (dataset['datetime'] > '2022-03-01')]\n",
    "print(res)\n",
    "\n",
    "peaks = {}\n",
    "for index, row in res.iterrows():\n",
    "    peaks[row['datetime']] = row['counts']\n",
    "print(peaks)\n",
    "Discarded = ['2022-03-14', '2022-03-19', '2022-03-24']\n",
    "for peak in Discarded:\n",
    "    peaks.pop(peak)\n",
    "print(peaks)\n",
    "\n",
    "ax = plt.plot(dataset['datetime'], dataset['counts'])\n",
    "plt.xticks(rotation=70)\n",
    "plt.tight_layout()\n",
    "plt.rcParams[\"figure.figsize\"] = [50,20]\n",
    "plt.grid()"
   ]
  },
  {
   "cell_type": "markdown",
   "id": "846e226d",
   "metadata": {},
   "source": [
    "## - Peaks highlighted"
   ]
  },
  {
   "cell_type": "code",
   "execution_count": null,
   "id": "17893aa0",
   "metadata": {},
   "outputs": [],
   "source": [
    "from datetime import datetime\n",
    "import numpy as np\n",
    "import pandas as pd\n",
    "import matplotlib.pyplot as plt\n",
    "import matplotlib.dates as mdates\n",
    "import seaborn as sns\n",
    "\n",
    "df = pd.read_csv('./merged/monitoring.csv', index_col=False, delimiter=\",\")\n",
    "# get only month and year from datetime column (date of exam)\n",
    "df['date_col'] = df['datetime'].astype('datetime64').dt.to_period('D') # D = day, M = month, Y = year\n",
    "print(df.shape)\n",
    "\n",
    "\n",
    "# group by based on month and year after filtering poor graded students\n",
    "data = df.groupby(['date_col']).size().reset_index(name = 'count')  \n",
    "data['date_col'] = data['date_col'].dt.to_timestamp('s').dt.strftime('%Y-%m-%d')\n",
    "data['date_col'] = pd.to_datetime(data['date_col'], format='%Y-%m-%d')\n",
    "data.set_index(\"date_col\")\n",
    "\n",
    "# Set the locator\n",
    "locator = mdates.MonthLocator()  # every month\n",
    "# Specify the format - %b gives us Jan, Feb...\n",
    "fmt = mdates.DateFormatter('%b')\n",
    "\n",
    "fig, ax = plt.subplots()\n",
    "# bars = ax.bar(x=\"date_col\", y=data[\"count\"], data=data, zorder=2, color=\"cornflowerblue\")\n",
    "\n",
    "barlist = plt.bar(data['date_col'], data['count'], color=\"cornflowerblue\")\n",
    "\n",
    "X = plt.gca().xaxis\n",
    "X.set_major_locator(locator)\n",
    "# Specify formatter\n",
    "X.set_major_formatter(fmt)\n",
    "# Labels\n",
    "# plt.title('Distribution of tweets',fontsize=36,pad=30)\n",
    "# plt.xlabel('Time',fontsize=30,labelpad=50)\n",
    "plt.ylabel('#Tweets',fontsize=36,labelpad=26)\n",
    "#Ticks\n",
    "plt.xticks(rotation=90, fontsize=30)\n",
    "plt.yticks(fontsize=30)\n",
    "plt.tick_params(axis='y', pad=10)\n",
    "plt.tick_params(axis='x', pad=10)\n",
    "\n",
    "plt.margins(x=0)    # delete graph lateral margin\n",
    "plt.ylim(ymin=0)    # y values start from 0\n",
    "plt.tight_layout()\n",
    "plt.rcParams[\"figure.figsize\"] = [28,9]\n",
    "plt.grid(zorder=2)\n",
    "# plt.subplots_adjust(bottom=0.55)\n",
    "\n",
    "print(peaks)\n",
    "\n",
    "for peak in peaks.keys():\n",
    "    print(peak)\n",
    "    p = datetime.strptime(peak, '%Y-%m-%d')\n",
    "    i = data[data['date_col'] == peak].index[0]\n",
    "    row = data[data['date_col'] == peak]\n",
    "    ts = row.iloc[0]['date_col']\n",
    "    s = ts.strftime('%Y-%m-%d')\n",
    "    plt.text(ts,-300, s, fontsize=24, rotation=90)\n",
    "    barlist[i].set_color('salmon')\n",
    "    \n",
    "\n",
    "plt.savefig('./monitoring/img/monitoring_barplot_peaks.png', bbox_inches='tight')\n",
    "plt.show()\n"
   ]
  },
  {
   "cell_type": "markdown",
   "id": "7dafaae0",
   "metadata": {},
   "source": [
    "## - Line chart"
   ]
  },
  {
   "cell_type": "code",
   "execution_count": null,
   "id": "798e05a4",
   "metadata": {},
   "outputs": [],
   "source": [
    "import datetime\n",
    "import numpy as np\n",
    "import pandas as pd\n",
    "import matplotlib.pyplot as plt\n",
    "import matplotlib.dates as mdates\n",
    "import seaborn as sns\n",
    "\n",
    "df = pd.read_csv('./merged/monitoring.csv', index_col=False, delimiter=\",\")\n",
    "# get only month and year from datetime column (date of exam)\n",
    "df['date_col'] = df['datetime'].astype('datetime64').dt.to_period('D') # D = day, M = month, Y = year\n",
    "print(df.shape)\n",
    "\n",
    "# group by based on month and year after filtering poor graded students\n",
    "data = df.groupby(['date_col']).size().reset_index(name = 'count')  \n",
    "data['date_col'] = data['date_col'].dt.to_timestamp('s').dt.strftime('%Y-%m-%d')\n",
    "data['date_col'] = pd.to_datetime(data['date_col'], format='%Y-%m-%d')\n",
    "\n",
    "\n",
    "# Set the locator\n",
    "locator = mdates.MonthLocator()  # every month\n",
    "# Specify the format - %b gives us Jan, Feb...\n",
    "fmt = mdates.DateFormatter('%b')\n",
    "\n",
    "plt.plot(data['date_col'], data['count'], color=\"cornflowerblue\")\n",
    "X = plt.gca().xaxis\n",
    "X.set_major_locator(locator)\n",
    "# Specify formatter\n",
    "X.set_major_formatter(fmt)\n",
    "# Labels\n",
    "# plt.title('Distribution of tweets',fontsize=36,pad=30)\n",
    "# plt.xlabel('Time',fontsize=30,labelpad=50)\n",
    "plt.ylabel('#Tweets',fontsize=36,labelpad=26)\n",
    "#Ticks\n",
    "plt.xticks(rotation=90, fontsize=30)\n",
    "plt.yticks(fontsize=30)\n",
    "plt.tick_params(axis='y', pad=10)\n",
    "plt.tick_params(axis='x', pad=10)\n",
    "\n",
    "plt.margins(x=0)    # delete graph lateral margin\n",
    "plt.ylim(ymin=0)    # y values start from 0\n",
    "plt.tight_layout()\n",
    "plt.rcParams[\"figure.figsize\"] = [28,9]\n",
    "plt.grid()\n",
    "plt.savefig('./monitoring/monitoring_lineplot.png')\n",
    "plt.show()"
   ]
  },
  {
   "cell_type": "markdown",
   "id": "da62310e",
   "metadata": {
    "id": "da62310e"
   },
   "source": [
    "## - Frequency of words"
   ]
  },
  {
   "cell_type": "code",
   "execution_count": null,
   "id": "7111ede4",
   "metadata": {
    "colab": {
     "base_uri": "https://localhost:8080/",
     "height": 333
    },
    "executionInfo": {
     "elapsed": 1154,
     "status": "ok",
     "timestamp": 1656148425701,
     "user": {
      "displayName": "MARTINA MARINO",
      "userId": "06117242016215180196"
     },
     "user_tz": -120
    },
    "id": "7111ede4",
    "outputId": "a9b0c05c-960d-414a-8f01-0f2ff090cfca"
   },
   "outputs": [],
   "source": [
    "import seaborn as sns\n",
    "import pandas as pd\n",
    "import matplotlib.pyplot as plt\n",
    "import glob\n",
    "import os\n",
    "\n",
    "df = pd.read_csv('./labeled/12-01-rebalanced.csv')\n",
    "\n",
    "dfa = df['text']\n",
    "dfb = pd.read_csv(\"keys.txt\", sep=';')\n",
    "\n",
    "Words = dfb['Words'].values\n",
    "dico = {}\n",
    "for word in Words:\n",
    "    dico[word] = dfa.str.count(word).sum()\n",
    "\n",
    "print(dico)\n",
    "\n",
    "#plt.bar(dico.keys(), dico.values(), width, color='g')\n",
    "\n",
    "words = list(dico.keys())\n",
    "count = list(dico.values())\n",
    "    \n",
    "plt.barh(words,count)\n",
    "plt.title('Word occurences')\n",
    "plt.ylabel('Keywords')\n",
    "plt.xlabel('Count')\n",
    "plt.show()"
   ]
  }
 ],
 "metadata": {
  "colab": {
   "collapsed_sections": [
    "3f5e3eef",
    "b0733939",
    "10ddf5f3",
    "8990d29c",
    "5086c6c0",
    "ec8f41d9",
    "12bb38ce",
    "8351db08",
    "ce292406",
    "94862698",
    "BjVW0mYBEMMH",
    "07dae0b5",
    "89bcca8d",
    "da62310e",
    "C45M-Rribw5C",
    "8149c9fb",
    "019da1ef",
    "d0baccbd",
    "9e9b5b97",
    "f0dde321",
    "_nADI-wV9VAS",
    "qcT4gSRf8GDf",
    "22294383",
    "QiQ2PJVj8qRJ",
    "h3PdYjVs-k2u"
   ],
   "name": "BSblocker.ipynb",
   "provenance": []
  },
  "kernelspec": {
   "display_name": "Python 3 (ipykernel)",
   "language": "python",
   "name": "python3"
  },
  "language_info": {
   "codemirror_mode": {
    "name": "ipython",
    "version": 3
   },
   "file_extension": ".py",
   "mimetype": "text/x-python",
   "name": "python",
   "nbconvert_exporter": "python",
   "pygments_lexer": "ipython3",
   "version": "3.9.12"
  }
 },
 "nbformat": 4,
 "nbformat_minor": 5
}
