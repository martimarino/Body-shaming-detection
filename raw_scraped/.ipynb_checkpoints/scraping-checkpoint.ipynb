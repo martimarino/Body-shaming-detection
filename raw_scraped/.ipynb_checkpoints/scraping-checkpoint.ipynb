{
 "cells": [
  {
   "cell_type": "markdown",
   "id": "bf493dcc",
   "metadata": {},
   "source": [
    "# Scraping tweets containing keywords"
   ]
  },
  {
   "cell_type": "code",
   "execution_count": 8,
   "id": "e8c4f54e",
   "metadata": {},
   "outputs": [],
   "source": [
    "import os\n",
    "\n",
    "import snscrape.modules.twitter as sntwitter\n",
    "import pandas as pd\n",
    "\n",
    "\n",
    "def getFilteredTweets():\n",
    "    text_query = '(\"anoressica\" OR \"anoressico\" ' \\\n",
    "                 'OR \"grasso\" OR \"grassa\" ' \\\n",
    "                 'OR \"ciccione\" OR \"cicciona\" ' \\\n",
    "                 'OR \"nasone\" OR \"cozza\" ' \\\n",
    "                 'OR \"racchia\" OR \"culone\" ' \\\n",
    "                 'OR \"culona\" OR \"nano\" ' \\\n",
    "                 'OR \"nana\" OR \"obeso\" ' \\\n",
    "                 'OR \"obesa\" OR \"pelata\" ' \\\n",
    "                 'OR \"pelato\" OR \"boiler\")'\n",
    "    since_date = '2022-05-01'\n",
    "    until_date = '2022-06-01'\n",
    "    options = '-is:retweet -is:reply -is:quoted lang:it'\n",
    "    output_file = '2022-05.csv'\n",
    "    tweets_list = []\n",
    "    fetched = 0\n",
    "\n",
    "    print(\"output_file: \", output_file)\n",
    "\n",
    "    for i, tweet in enumerate(\n",
    "            sntwitter.TwitterSearchScraper(\n",
    "                text_query + ' since:' + since_date + ' until:' + until_date + ' ' + options).get_items()):\n",
    "        dfk = pd.read_csv(\"keys.txt\", sep=';')\n",
    "\n",
    "        Words = dfk['Words'].values\n",
    "        for word in Words:\n",
    "            if word in tweet.content:\n",
    "\n",
    "                fetched = fetched+1\n",
    "\n",
    "                tweets_list.append(\n",
    "                    [tweet.date, tweet.content, tweet.user.username])\n",
    "\n",
    "                tweets_df = pd.DataFrame(tweets_list,\n",
    "                                         columns=['Datetime', 'Text', 'Username'])\n",
    "                tweets_df.to_csv(output_file, index=False, sep=',', mode='a', header=not os.path.exists(output_file))\n",
    "\n",
    "                if i % 100 == 0:\n",
    "                    print(\"Tweets obtained: \", fetched, \"\\t\\tdate: \", tweet.date)\n",
    "\n",
    "                tweets_list = []\n",
    "                break\n",
    "\n",
    "\n",
    "if __name__ == '__main__':\n",
    "    getFilteredTweets()"
   ]
  }
 ],
 "metadata": {
  "kernelspec": {
   "display_name": "Python 3 (ipykernel)",
   "language": "python",
   "name": "python3"
  },
  "language_info": {
   "codemirror_mode": {
    "name": "ipython",
    "version": 3
   },
   "file_extension": ".py",
   "mimetype": "text/x-python",
   "name": "python",
   "nbconvert_exporter": "python",
   "pygments_lexer": "ipython3",
   "version": "3.9.7"
  }
 },
 "nbformat": 4,
 "nbformat_minor": 5
}
